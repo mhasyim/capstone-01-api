{
 "cells": [
  {
   "cell_type": "markdown",
   "metadata": {},
   "source": [
    "# Penggunaan API 'chinook'\n",
    "## Pengantar\n",
    "\n",
    "<i>Application Programming Interface </i> (API) ini digunakan untuk menampilkan beberapa data melalui web service. Data yang ditampilan dari database SQLLite. Berikut skema ERD database chinook.\n",
    "\n",
    "![](res/chinookschema2.png)\n",
    "\n",
    "**Daftar Tabel yang ada di Database Chinook:**\n",
    "- `employees` menyimpan informasi pegawai\n",
    "- `customers` menyimpan informasi customer (pelanggan)\n",
    "- `invoices` menyimpan informasi invoice\n",
    "- `invoices_items` menyimpan informasi rincian invoice\n",
    "- `tracks` menyimpan informasi track lagu\n",
    "- `playlists` menyimpan informasi playlist lagu\n",
    "- `playlist_track` menyimpan informasi relasi antara table `tracks` dan `playlist` \n",
    "- `media_types` menyimpan informasi jenis media\n",
    "- `genres` menyimpan informasi genre musik\n",
    "- `albums` menyimpan informasi album lagu\n",
    "- `artists` menyimpan informasi artis lagu"
   ]
  },
  {
   "cell_type": "code",
   "execution_count": 4,
   "metadata": {
    "ExecuteTime": {
     "end_time": "2020-08-07T23:11:25.733743Z",
     "start_time": "2020-08-07T23:11:25.727727Z"
    }
   },
   "outputs": [],
   "source": [
    "#import library yang dibutuhkan\n",
    "\n",
    "import sqlite3\n",
    "import pandas as pd\n",
    "import requests\n",
    "\n",
    "conn = sqlite3.connect(\"data/chinook.db\")"
   ]
  },
  {
   "cell_type": "markdown",
   "metadata": {},
   "source": [
    "## Daftar Method\n",
    "\n",
    "Dalam API sederhana ini, terdapat beberapa method yang telah disediakan untuk menampilkan data dari database chinook. Beberapa method tersebut antara lain:\n",
    "\n",
    "**Daftar Method dalam API Chinook:**\n",
    "- `customers` statis\n",
    "- `billingcountry` statis\n",
    "- `top_customer` dinamis\n",
    "- `top_billingcountry` dinamis\n",
    "- `market_by_day` dinamis\n",
    "- `best_genres` dinamis"
   ]
  },
  {
   "cell_type": "markdown",
   "metadata": {},
   "source": [
    "### Method `customers`\n",
    "\n",
    "- Keterangan    = Menampilkan data nama dari tabel customers\n",
    "- Jenis         = Statis\n",
    "- Output        = JSON\n",
    "- Parameter     = TIDAK ADA\n",
    "\n",
    "**Contoh Penggunaan**\n",
    "\n",
    "- `http://127.0.0.1:5000/chinook/customers`"
   ]
  },
  {
   "cell_type": "code",
   "execution_count": 8,
   "metadata": {
    "ExecuteTime": {
     "end_time": "2020-08-07T23:11:57.351866Z",
     "start_time": "2020-08-07T23:11:57.321278Z"
    }
   },
   "outputs": [
    {
     "data": {
      "text/html": [
       "<div>\n",
       "<style scoped>\n",
       "    .dataframe tbody tr th:only-of-type {\n",
       "        vertical-align: middle;\n",
       "    }\n",
       "\n",
       "    .dataframe tbody tr th {\n",
       "        vertical-align: top;\n",
       "    }\n",
       "\n",
       "    .dataframe thead th {\n",
       "        text-align: right;\n",
       "    }\n",
       "</style>\n",
       "<table border=\"1\" class=\"dataframe\">\n",
       "  <thead>\n",
       "    <tr style=\"text-align: right;\">\n",
       "      <th></th>\n",
       "      <th>FirstName</th>\n",
       "      <th>LastName</th>\n",
       "    </tr>\n",
       "  </thead>\n",
       "  <tbody>\n",
       "    <tr>\n",
       "      <th>0</th>\n",
       "      <td>Aaron</td>\n",
       "      <td>Mitchell</td>\n",
       "    </tr>\n",
       "    <tr>\n",
       "      <th>1</th>\n",
       "      <td>Alexandre</td>\n",
       "      <td>Rocha</td>\n",
       "    </tr>\n",
       "    <tr>\n",
       "      <th>2</th>\n",
       "      <td>Astrid</td>\n",
       "      <td>Gruber</td>\n",
       "    </tr>\n",
       "    <tr>\n",
       "      <th>3</th>\n",
       "      <td>Bjørn</td>\n",
       "      <td>Hansen</td>\n",
       "    </tr>\n",
       "    <tr>\n",
       "      <th>4</th>\n",
       "      <td>Camille</td>\n",
       "      <td>Bernard</td>\n",
       "    </tr>\n",
       "  </tbody>\n",
       "</table>\n",
       "</div>"
      ],
      "text/plain": [
       "   FirstName  LastName\n",
       "0      Aaron  Mitchell\n",
       "1  Alexandre     Rocha\n",
       "2     Astrid    Gruber\n",
       "3      Bjørn    Hansen\n",
       "4    Camille   Bernard"
      ]
     },
     "execution_count": 8,
     "metadata": {},
     "output_type": "execute_result"
    }
   ],
   "source": [
    "customer = requests.get('http://127.0.0.1:5000/chinook/customers')\n",
    "\n",
    "list_costumer=''\n",
    "if customer.status_code == 200:\n",
    "     list_costumer = pd.DataFrame(customer.json()).head()\n",
    "        \n",
    "list_costumer        "
   ]
  },
  {
   "cell_type": "markdown",
   "metadata": {},
   "source": [
    "### Method `billingcountry`\n",
    "\n",
    "- Keterangan    = Menampilkan data billingcountry dari tabel invoices\n",
    "- Jenis         = Statis\n",
    "- Output        = JSON\n",
    "- Parameter     = TIDAK ADA\n",
    "\n",
    "**Contoh Penggunaan**\n",
    "\n",
    "- `http://127.0.0.1:5000/chinook/billingcountry`"
   ]
  },
  {
   "cell_type": "code",
   "execution_count": 10,
   "metadata": {
    "ExecuteTime": {
     "end_time": "2020-08-07T23:13:03.950302Z",
     "start_time": "2020-08-07T23:13:03.906795Z"
    }
   },
   "outputs": [
    {
     "data": {
      "text/html": [
       "<div>\n",
       "<style scoped>\n",
       "    .dataframe tbody tr th:only-of-type {\n",
       "        vertical-align: middle;\n",
       "    }\n",
       "\n",
       "    .dataframe tbody tr th {\n",
       "        vertical-align: top;\n",
       "    }\n",
       "\n",
       "    .dataframe thead th {\n",
       "        text-align: right;\n",
       "    }\n",
       "</style>\n",
       "<table border=\"1\" class=\"dataframe\">\n",
       "  <thead>\n",
       "    <tr style=\"text-align: right;\">\n",
       "      <th></th>\n",
       "      <th>Total</th>\n",
       "    </tr>\n",
       "  </thead>\n",
       "  <tbody>\n",
       "    <tr>\n",
       "      <th>USA</th>\n",
       "      <td>523.06</td>\n",
       "    </tr>\n",
       "    <tr>\n",
       "      <th>Canada</th>\n",
       "      <td>303.96</td>\n",
       "    </tr>\n",
       "    <tr>\n",
       "      <th>France</th>\n",
       "      <td>195.10</td>\n",
       "    </tr>\n",
       "    <tr>\n",
       "      <th>Brazil</th>\n",
       "      <td>190.10</td>\n",
       "    </tr>\n",
       "    <tr>\n",
       "      <th>Germany</th>\n",
       "      <td>156.48</td>\n",
       "    </tr>\n",
       "  </tbody>\n",
       "</table>\n",
       "</div>"
      ],
      "text/plain": [
       "          Total\n",
       "USA      523.06\n",
       "Canada   303.96\n",
       "France   195.10\n",
       "Brazil   190.10\n",
       "Germany  156.48"
      ]
     },
     "execution_count": 10,
     "metadata": {},
     "output_type": "execute_result"
    }
   ],
   "source": [
    "country = requests.get('http://127.0.0.1:5000/chinook/billingcountry')\n",
    "\n",
    "list_country = ''\n",
    "if country.status_code == 200:\n",
    "     list_country=pd.DataFrame(country.json()).sort_values('Total', ascending=False).head()\n",
    "\n",
    "list_country"
   ]
  },
  {
   "cell_type": "markdown",
   "metadata": {},
   "source": [
    "### Method `top_customer`\n",
    "\n",
    "- Keterangan    = Menampilkan informasi customer yang paling banyak bertransaksi\n",
    "- Jenis         = Dinamis\n",
    "- Output        = JSON\n",
    "- Parameter   \n",
    "    - `get` (integer) berupa filter angka untuk menampilkan daftar teratas sesuai angka yang dimasukkan dalam parameter tersebut  \n",
    "\n",
    "**Contoh Penggunaan**\n",
    "\n",
    "- `http://127.0.0.1:5000/chinook/top_customer` menampilkan seluruh customer diurutkan dari yang paling banyak transaksi\n",
    "- `http://127.0.0.1:5000/chinook/top_customer?get=5` hanya menampilkan lima terbanyak"
   ]
  },
  {
   "cell_type": "code",
   "execution_count": 11,
   "metadata": {
    "ExecuteTime": {
     "end_time": "2020-08-07T23:13:56.198702Z",
     "start_time": "2020-08-07T23:13:56.163244Z"
    }
   },
   "outputs": [
    {
     "data": {
      "text/html": [
       "<div>\n",
       "<style scoped>\n",
       "    .dataframe tbody tr th:only-of-type {\n",
       "        vertical-align: middle;\n",
       "    }\n",
       "\n",
       "    .dataframe tbody tr th {\n",
       "        vertical-align: top;\n",
       "    }\n",
       "\n",
       "    .dataframe thead th {\n",
       "        text-align: right;\n",
       "    }\n",
       "</style>\n",
       "<table border=\"1\" class=\"dataframe\">\n",
       "  <thead>\n",
       "    <tr style=\"text-align: right;\">\n",
       "      <th></th>\n",
       "      <th>FirstName</th>\n",
       "      <th>LastName</th>\n",
       "      <th>Country</th>\n",
       "      <th>Total</th>\n",
       "    </tr>\n",
       "  </thead>\n",
       "  <tbody>\n",
       "    <tr>\n",
       "      <th>6</th>\n",
       "      <td>Helena</td>\n",
       "      <td>Holý</td>\n",
       "      <td>Czech Republic</td>\n",
       "      <td>49.62</td>\n",
       "    </tr>\n",
       "    <tr>\n",
       "      <th>26</th>\n",
       "      <td>Richard</td>\n",
       "      <td>Cunningham</td>\n",
       "      <td>USA</td>\n",
       "      <td>47.62</td>\n",
       "    </tr>\n",
       "    <tr>\n",
       "      <th>57</th>\n",
       "      <td>Luis</td>\n",
       "      <td>Rojas</td>\n",
       "      <td>Chile</td>\n",
       "      <td>46.62</td>\n",
       "    </tr>\n",
       "  </tbody>\n",
       "</table>\n",
       "</div>"
      ],
      "text/plain": [
       "   FirstName    LastName         Country  Total\n",
       "6     Helena        Holý  Czech Republic  49.62\n",
       "26   Richard  Cunningham             USA  47.62\n",
       "57      Luis       Rojas           Chile  46.62"
      ]
     },
     "execution_count": 11,
     "metadata": {},
     "output_type": "execute_result"
    }
   ],
   "source": [
    "top_customer = requests.get('http://127.0.0.1:5000/chinook/top_customer')\n",
    "\n",
    "list_top_customer = ''\n",
    "if top_customer.status_code == 200:\n",
    "     list_top_customer=pd.DataFrame(top_customer.json()).head(3)\n",
    "        \n",
    "list_top_customer"
   ]
  },
  {
   "cell_type": "code",
   "execution_count": 13,
   "metadata": {
    "ExecuteTime": {
     "end_time": "2020-08-07T23:14:51.544720Z",
     "start_time": "2020-08-07T23:14:51.512636Z"
    }
   },
   "outputs": [
    {
     "data": {
      "text/html": [
       "<div>\n",
       "<style scoped>\n",
       "    .dataframe tbody tr th:only-of-type {\n",
       "        vertical-align: middle;\n",
       "    }\n",
       "\n",
       "    .dataframe tbody tr th {\n",
       "        vertical-align: top;\n",
       "    }\n",
       "\n",
       "    .dataframe thead th {\n",
       "        text-align: right;\n",
       "    }\n",
       "</style>\n",
       "<table border=\"1\" class=\"dataframe\">\n",
       "  <thead>\n",
       "    <tr style=\"text-align: right;\">\n",
       "      <th></th>\n",
       "      <th>FirstName</th>\n",
       "      <th>LastName</th>\n",
       "      <th>Country</th>\n",
       "      <th>Total</th>\n",
       "    </tr>\n",
       "  </thead>\n",
       "  <tbody>\n",
       "    <tr>\n",
       "      <th>6</th>\n",
       "      <td>Helena</td>\n",
       "      <td>Holý</td>\n",
       "      <td>Czech Republic</td>\n",
       "      <td>49.62</td>\n",
       "    </tr>\n",
       "    <tr>\n",
       "      <th>26</th>\n",
       "      <td>Richard</td>\n",
       "      <td>Cunningham</td>\n",
       "      <td>USA</td>\n",
       "      <td>47.62</td>\n",
       "    </tr>\n",
       "    <tr>\n",
       "      <th>57</th>\n",
       "      <td>Luis</td>\n",
       "      <td>Rojas</td>\n",
       "      <td>Chile</td>\n",
       "      <td>46.62</td>\n",
       "    </tr>\n",
       "    <tr>\n",
       "      <th>46</th>\n",
       "      <td>Hugh</td>\n",
       "      <td>O'Reilly</td>\n",
       "      <td>Ireland</td>\n",
       "      <td>45.62</td>\n",
       "    </tr>\n",
       "    <tr>\n",
       "      <th>45</th>\n",
       "      <td>Ladislav</td>\n",
       "      <td>Kovács</td>\n",
       "      <td>Hungary</td>\n",
       "      <td>45.62</td>\n",
       "    </tr>\n",
       "  </tbody>\n",
       "</table>\n",
       "</div>"
      ],
      "text/plain": [
       "   FirstName    LastName         Country  Total\n",
       "6     Helena        Holý  Czech Republic  49.62\n",
       "26   Richard  Cunningham             USA  47.62\n",
       "57      Luis       Rojas           Chile  46.62\n",
       "46      Hugh    O'Reilly         Ireland  45.62\n",
       "45  Ladislav      Kovács         Hungary  45.62"
      ]
     },
     "execution_count": 13,
     "metadata": {},
     "output_type": "execute_result"
    }
   ],
   "source": [
    "top5_customer = requests.get('http://127.0.0.1:5000/chinook/top_customer?get=5')\n",
    "\n",
    "list_top5_customer = ''\n",
    "if top5_customer.status_code == 200:\n",
    "     list_top5_customer = pd.DataFrame(top5_customer.json())\n",
    "        \n",
    "list_top5_customer"
   ]
  },
  {
   "cell_type": "markdown",
   "metadata": {},
   "source": [
    "### Method `top_billingcountry`\n",
    "\n",
    "- Keterangan    = Menampilkan informasi negara yang paling banyak transaksi\n",
    "- Jenis         = Dinamis\n",
    "- Output        = JSON\n",
    "- Parameter   \n",
    "    - `get` (integer) berupa filter angka untuk menampilkan daftar teratas sesuai angka yang dimasukkan dalam parameter tersebut \n",
    "\n",
    "**Contoh Penggunaan**\n",
    "\n",
    "- `http://127.0.0.1:5000/chinook/top_billingcountry` menampilkan seluruh negara diurutkan dari yang paling banyak transaksi\n",
    "- `http://127.0.0.1:5000/chinook/top_billingcountry?get=3` hanya menampilkan tiga terbanyak"
   ]
  },
  {
   "cell_type": "code",
   "execution_count": 14,
   "metadata": {
    "ExecuteTime": {
     "end_time": "2020-08-07T23:15:39.893265Z",
     "start_time": "2020-08-07T23:15:39.861183Z"
    }
   },
   "outputs": [
    {
     "data": {
      "text/html": [
       "<div>\n",
       "<style scoped>\n",
       "    .dataframe tbody tr th:only-of-type {\n",
       "        vertical-align: middle;\n",
       "    }\n",
       "\n",
       "    .dataframe tbody tr th {\n",
       "        vertical-align: top;\n",
       "    }\n",
       "\n",
       "    .dataframe thead th {\n",
       "        text-align: right;\n",
       "    }\n",
       "</style>\n",
       "<table border=\"1\" class=\"dataframe\">\n",
       "  <thead>\n",
       "    <tr style=\"text-align: right;\">\n",
       "      <th></th>\n",
       "      <th>Country</th>\n",
       "      <th>Total</th>\n",
       "    </tr>\n",
       "  </thead>\n",
       "  <tbody>\n",
       "    <tr>\n",
       "      <th>5</th>\n",
       "      <td>USA</td>\n",
       "      <td>523.06</td>\n",
       "    </tr>\n",
       "    <tr>\n",
       "      <th>4</th>\n",
       "      <td>Canada</td>\n",
       "      <td>303.96</td>\n",
       "    </tr>\n",
       "    <tr>\n",
       "      <th>8</th>\n",
       "      <td>France</td>\n",
       "      <td>195.10</td>\n",
       "    </tr>\n",
       "    <tr>\n",
       "      <th>25</th>\n",
       "      <td>Brazil</td>\n",
       "      <td>190.10</td>\n",
       "    </tr>\n",
       "    <tr>\n",
       "      <th>1</th>\n",
       "      <td>Germany</td>\n",
       "      <td>156.48</td>\n",
       "    </tr>\n",
       "  </tbody>\n",
       "</table>\n",
       "</div>"
      ],
      "text/plain": [
       "    Country   Total\n",
       "5       USA  523.06\n",
       "4    Canada  303.96\n",
       "8    France  195.10\n",
       "25   Brazil  190.10\n",
       "1   Germany  156.48"
      ]
     },
     "execution_count": 14,
     "metadata": {},
     "output_type": "execute_result"
    }
   ],
   "source": [
    "top_billingcountry = requests.get('http://127.0.0.1:5000/chinook/top_billingcountry')\n",
    "\n",
    "list_top_billingcountry = ''\n",
    "if top_billingcountry.status_code == 200:\n",
    "     list_top_billingcountry=pd.DataFrame(top_billingcountry.json()).head()\n",
    "\n",
    "list_top_billingcountry"
   ]
  },
  {
   "cell_type": "code",
   "execution_count": 19,
   "metadata": {
    "ExecuteTime": {
     "end_time": "2020-08-07T23:19:19.294068Z",
     "start_time": "2020-08-07T23:19:19.260977Z"
    }
   },
   "outputs": [
    {
     "data": {
      "text/html": [
       "<div>\n",
       "<style scoped>\n",
       "    .dataframe tbody tr th:only-of-type {\n",
       "        vertical-align: middle;\n",
       "    }\n",
       "\n",
       "    .dataframe tbody tr th {\n",
       "        vertical-align: top;\n",
       "    }\n",
       "\n",
       "    .dataframe thead th {\n",
       "        text-align: right;\n",
       "    }\n",
       "</style>\n",
       "<table border=\"1\" class=\"dataframe\">\n",
       "  <thead>\n",
       "    <tr style=\"text-align: right;\">\n",
       "      <th></th>\n",
       "      <th>Country</th>\n",
       "      <th>Total</th>\n",
       "    </tr>\n",
       "  </thead>\n",
       "  <tbody>\n",
       "    <tr>\n",
       "      <th>5</th>\n",
       "      <td>USA</td>\n",
       "      <td>523.06</td>\n",
       "    </tr>\n",
       "    <tr>\n",
       "      <th>4</th>\n",
       "      <td>Canada</td>\n",
       "      <td>303.96</td>\n",
       "    </tr>\n",
       "    <tr>\n",
       "      <th>8</th>\n",
       "      <td>France</td>\n",
       "      <td>195.10</td>\n",
       "    </tr>\n",
       "  </tbody>\n",
       "</table>\n",
       "</div>"
      ],
      "text/plain": [
       "  Country   Total\n",
       "5     USA  523.06\n",
       "4  Canada  303.96\n",
       "8  France  195.10"
      ]
     },
     "execution_count": 19,
     "metadata": {},
     "output_type": "execute_result"
    }
   ],
   "source": [
    "top3_billingcountry = requests.get('http://127.0.0.1:5000/chinook/top_billingcountry?get=3')\n",
    "\n",
    "list_top3_billingcountry=''\n",
    "if top3_billingcountry.status_code == 200:\n",
    "     list_top3_billingcountry=pd.DataFrame(top3_billingcountry.json())\n",
    "\n",
    "list_top3_billingcountry"
   ]
  },
  {
   "cell_type": "code",
   "execution_count": 20,
   "metadata": {
    "ExecuteTime": {
     "end_time": "2020-08-07T23:19:22.243021Z",
     "start_time": "2020-08-07T23:19:21.972824Z"
    }
   },
   "outputs": [
    {
     "data": {
      "text/plain": [
       "<AxesSubplot:>"
      ]
     },
     "execution_count": 20,
     "metadata": {},
     "output_type": "execute_result"
    },
    {
     "data": {
      "image/png": "[encoded data removed]",
      "text/plain": [
       "<Figure size 432x288 with 1 Axes>"
      ]
     },
     "metadata": {
      "needs_background": "light"
     },
     "output_type": "display_data"
    }
   ],
   "source": [
    "list_top3_billingcountry.plot.bar()"
   ]
  },
  {
   "cell_type": "markdown",
   "metadata": {},
   "source": [
    "### Method `market_by_day`\n",
    "\n",
    "- Keterangan    = Menampilkan data market berdasarkan negara dan hari\n",
    "- Jenis         = Dinamis\n",
    "- Output        = JSON\n",
    "- Parameter   \n",
    "    - `country` (string) untuk filter berdasarkan negara tertentu sesuai yang dimasukkan \n",
    "    - `day` (string) untuk filter berdasarkan hari\n",
    "\n",
    "**Contoh Penggunaan**\n",
    "\n",
    "- `http://127.0.0.1:5000/chinook/market_by_day` menampilkan seluruh data\n",
    "- `http://127.0.0.1:5000/chinook/market_by_day?country=USA` hanya menampilkan data amerika\n",
    "- `http://127.0.0.1:5000/chinook/market_by_day?day=Saturday` hanya menampilkan data hari Sabtu\n",
    "- `http://127.0.0.1:5000/chinook/market_by_day?country=USA&day=Saturday` hanya menampilkan data Amerika di hari Sabtu"
   ]
  },
  {
   "cell_type": "code",
   "execution_count": 21,
   "metadata": {
    "ExecuteTime": {
     "end_time": "2020-08-07T23:19:30.478621Z",
     "start_time": "2020-08-07T23:19:30.395508Z"
    }
   },
   "outputs": [
    {
     "data": {
      "text/html": [
       "<div>\n",
       "<style scoped>\n",
       "    .dataframe tbody tr th:only-of-type {\n",
       "        vertical-align: middle;\n",
       "    }\n",
       "\n",
       "    .dataframe tbody tr th {\n",
       "        vertical-align: top;\n",
       "    }\n",
       "\n",
       "    .dataframe thead th {\n",
       "        text-align: right;\n",
       "    }\n",
       "</style>\n",
       "<table border=\"1\" class=\"dataframe\">\n",
       "  <thead>\n",
       "    <tr style=\"text-align: right;\">\n",
       "      <th></th>\n",
       "      <th>Monday</th>\n",
       "      <th>Tuesday</th>\n",
       "      <th>Wednesday</th>\n",
       "      <th>Thursday</th>\n",
       "      <th>Friday</th>\n",
       "      <th>Saturday</th>\n",
       "      <th>Sunday</th>\n",
       "    </tr>\n",
       "  </thead>\n",
       "  <tbody>\n",
       "    <tr>\n",
       "      <th>Argentina</th>\n",
       "      <td>1.98</td>\n",
       "      <td>3.96</td>\n",
       "      <td>NaN</td>\n",
       "      <td>NaN</td>\n",
       "      <td>14.85</td>\n",
       "      <td>1.98</td>\n",
       "      <td>14.85</td>\n",
       "    </tr>\n",
       "    <tr>\n",
       "      <th>Australia</th>\n",
       "      <td>1.98</td>\n",
       "      <td>3.96</td>\n",
       "      <td>NaN</td>\n",
       "      <td>NaN</td>\n",
       "      <td>14.85</td>\n",
       "      <td>1.98</td>\n",
       "      <td>14.85</td>\n",
       "    </tr>\n",
       "    <tr>\n",
       "      <th>Austria</th>\n",
       "      <td>24.80</td>\n",
       "      <td>3.96</td>\n",
       "      <td>0.99</td>\n",
       "      <td>NaN</td>\n",
       "      <td>3.96</td>\n",
       "      <td>8.91</td>\n",
       "      <td>NaN</td>\n",
       "    </tr>\n",
       "    <tr>\n",
       "      <th>Belgium</th>\n",
       "      <td>14.85</td>\n",
       "      <td>3.96</td>\n",
       "      <td>NaN</td>\n",
       "      <td>NaN</td>\n",
       "      <td>3.96</td>\n",
       "      <td>14.85</td>\n",
       "      <td>NaN</td>\n",
       "    </tr>\n",
       "    <tr>\n",
       "      <th>Brazil</th>\n",
       "      <td>19.80</td>\n",
       "      <td>1.98</td>\n",
       "      <td>26.73</td>\n",
       "      <td>45.56</td>\n",
       "      <td>16.83</td>\n",
       "      <td>63.36</td>\n",
       "      <td>15.84</td>\n",
       "    </tr>\n",
       "  </tbody>\n",
       "</table>\n",
       "</div>"
      ],
      "text/plain": [
       "           Monday  Tuesday  Wednesday  Thursday  Friday  Saturday  Sunday\n",
       "Argentina    1.98     3.96        NaN       NaN   14.85      1.98   14.85\n",
       "Australia    1.98     3.96        NaN       NaN   14.85      1.98   14.85\n",
       "Austria     24.80     3.96       0.99       NaN    3.96      8.91     NaN\n",
       "Belgium     14.85     3.96        NaN       NaN    3.96     14.85     NaN\n",
       "Brazil      19.80     1.98      26.73     45.56   16.83     63.36   15.84"
      ]
     },
     "execution_count": 21,
     "metadata": {},
     "output_type": "execute_result"
    }
   ],
   "source": [
    "market_by_day = requests.get('http://127.0.0.1:5000/chinook/market_by_day')\n",
    "\n",
    "list_market_by_day=''\n",
    "if market_by_day.status_code == 200:\n",
    "     list_market_by_day=pd.DataFrame(market_by_day.json()).head()\n",
    "\n",
    "list_market_by_day"
   ]
  },
  {
   "cell_type": "code",
   "execution_count": 22,
   "metadata": {
    "ExecuteTime": {
     "end_time": "2020-08-07T23:19:55.272047Z",
     "start_time": "2020-08-07T23:19:55.194631Z"
    },
    "scrolled": true
   },
   "outputs": [
    {
     "data": {
      "text/html": [
       "<div>\n",
       "<style scoped>\n",
       "    .dataframe tbody tr th:only-of-type {\n",
       "        vertical-align: middle;\n",
       "    }\n",
       "\n",
       "    .dataframe tbody tr th {\n",
       "        vertical-align: top;\n",
       "    }\n",
       "\n",
       "    .dataframe thead th {\n",
       "        text-align: right;\n",
       "    }\n",
       "</style>\n",
       "<table border=\"1\" class=\"dataframe\">\n",
       "  <thead>\n",
       "    <tr style=\"text-align: right;\">\n",
       "      <th></th>\n",
       "      <th>Saturday</th>\n",
       "    </tr>\n",
       "  </thead>\n",
       "  <tbody>\n",
       "    <tr>\n",
       "      <th>Argentina</th>\n",
       "      <td>1.98</td>\n",
       "    </tr>\n",
       "    <tr>\n",
       "      <th>Australia</th>\n",
       "      <td>1.98</td>\n",
       "    </tr>\n",
       "    <tr>\n",
       "      <th>Austria</th>\n",
       "      <td>8.91</td>\n",
       "    </tr>\n",
       "    <tr>\n",
       "      <th>Belgium</th>\n",
       "      <td>14.85</td>\n",
       "    </tr>\n",
       "    <tr>\n",
       "      <th>Brazil</th>\n",
       "      <td>63.36</td>\n",
       "    </tr>\n",
       "  </tbody>\n",
       "</table>\n",
       "</div>"
      ],
      "text/plain": [
       "           Saturday\n",
       "Argentina      1.98\n",
       "Australia      1.98\n",
       "Austria        8.91\n",
       "Belgium       14.85\n",
       "Brazil        63.36"
      ]
     },
     "execution_count": 22,
     "metadata": {},
     "output_type": "execute_result"
    }
   ],
   "source": [
    "market_by_day_saturday = requests.get('http://127.0.0.1:5000/chinook/market_by_day?day=Saturday')\n",
    "\n",
    "list_market_by_day_saturday=''\n",
    "if market_by_day_saturday.status_code == 200:\n",
    "     list_market_by_day_saturday=pd.DataFrame(market_by_day_saturday.json()).head()\n",
    "        \n",
    "list_market_by_day_saturday"
   ]
  },
  {
   "cell_type": "code",
   "execution_count": 23,
   "metadata": {
    "ExecuteTime": {
     "end_time": "2020-08-07T23:19:58.981550Z",
     "start_time": "2020-08-07T23:19:58.769963Z"
    }
   },
   "outputs": [
    {
     "data": {
      "text/plain": [
       "<AxesSubplot:>"
      ]
     },
     "execution_count": 23,
     "metadata": {},
     "output_type": "execute_result"
    },
    {
     "data": {
      "image/png": "[encoded data removed]",
      "text/plain": [
       "<Figure size 432x288 with 1 Axes>"
      ]
     },
     "metadata": {
      "needs_background": "light"
     },
     "output_type": "display_data"
    }
   ],
   "source": [
    "pd.DataFrame(market_by_day_saturday.json()).head(3).plot.barh()"
   ]
  },
  {
   "cell_type": "markdown",
   "metadata": {},
   "source": [
    "### Method `best_genres`\n",
    "\n",
    "- Keterangan    = Menampilkan informasi genres dari setiap negara yang bertransaksi\n",
    "- Jenis         = Dinamis\n",
    "- Output        = JSON\n",
    "- Parameter   \n",
    "    - `country` (string) untuk filter berdasarkan negara tertentu sesuai yang dimasukkan \n",
    "    - `year` (integer)  untuk filter berdasarkan tahun transaksi\n",
    "\n",
    "**Contoh Penggunaan**\n",
    "\n",
    "- `http://127.0.0.1:5000/chinook/best_genres` menampilkan seluruh data\n",
    "- `http://127.0.0.1:5000/chinook/best_genres?country=Denmark` hanya menampilkan data Denmark\n",
    "- `http://127.0.0.1:5000/chinook/best_genres?year=2009` hanya menampilkan data tahun 2009\n",
    "- `http://127.0.0.1:5000/chinook/best_genres?country=Denmark&year=2009` hanya menampilkan data Amerika di hari Sabtu"
   ]
  },
  {
   "cell_type": "code",
   "execution_count": 27,
   "metadata": {
    "ExecuteTime": {
     "end_time": "2020-08-07T23:21:11.725229Z",
     "start_time": "2020-08-07T23:21:11.687618Z"
    }
   },
   "outputs": [
    {
     "data": {
      "text/html": [
       "<div>\n",
       "<style scoped>\n",
       "    .dataframe tbody tr th:only-of-type {\n",
       "        vertical-align: middle;\n",
       "    }\n",
       "\n",
       "    .dataframe tbody tr th {\n",
       "        vertical-align: top;\n",
       "    }\n",
       "\n",
       "    .dataframe thead th {\n",
       "        text-align: right;\n",
       "    }\n",
       "</style>\n",
       "<table border=\"1\" class=\"dataframe\">\n",
       "  <thead>\n",
       "    <tr style=\"text-align: right;\">\n",
       "      <th></th>\n",
       "      <th>Country</th>\n",
       "      <th>Genre</th>\n",
       "      <th>Year</th>\n",
       "    </tr>\n",
       "  </thead>\n",
       "  <tbody>\n",
       "    <tr>\n",
       "      <th>0</th>\n",
       "      <td>Germany</td>\n",
       "      <td>Rock</td>\n",
       "      <td>2009</td>\n",
       "    </tr>\n",
       "    <tr>\n",
       "      <th>1</th>\n",
       "      <td>Germany</td>\n",
       "      <td>Rock</td>\n",
       "      <td>2009</td>\n",
       "    </tr>\n",
       "    <tr>\n",
       "      <th>2</th>\n",
       "      <td>Norway</td>\n",
       "      <td>Rock</td>\n",
       "      <td>2009</td>\n",
       "    </tr>\n",
       "    <tr>\n",
       "      <th>3</th>\n",
       "      <td>Norway</td>\n",
       "      <td>Rock</td>\n",
       "      <td>2009</td>\n",
       "    </tr>\n",
       "    <tr>\n",
       "      <th>4</th>\n",
       "      <td>Norway</td>\n",
       "      <td>Rock</td>\n",
       "      <td>2009</td>\n",
       "    </tr>\n",
       "    <tr>\n",
       "      <th>...</th>\n",
       "      <td>...</td>\n",
       "      <td>...</td>\n",
       "      <td>...</td>\n",
       "    </tr>\n",
       "    <tr>\n",
       "      <th>449</th>\n",
       "      <td>USA</td>\n",
       "      <td>Rock</td>\n",
       "      <td>2009</td>\n",
       "    </tr>\n",
       "    <tr>\n",
       "      <th>450</th>\n",
       "      <td>USA</td>\n",
       "      <td>Rock</td>\n",
       "      <td>2009</td>\n",
       "    </tr>\n",
       "    <tr>\n",
       "      <th>451</th>\n",
       "      <td>USA</td>\n",
       "      <td>Latin</td>\n",
       "      <td>2009</td>\n",
       "    </tr>\n",
       "    <tr>\n",
       "      <th>452</th>\n",
       "      <td>USA</td>\n",
       "      <td>Latin</td>\n",
       "      <td>2009</td>\n",
       "    </tr>\n",
       "    <tr>\n",
       "      <th>453</th>\n",
       "      <td>France</td>\n",
       "      <td>Alternative &amp; Punk</td>\n",
       "      <td>2009</td>\n",
       "    </tr>\n",
       "  </tbody>\n",
       "</table>\n",
       "<p>454 rows × 3 columns</p>\n",
       "</div>"
      ],
      "text/plain": [
       "     Country               Genre  Year\n",
       "0    Germany                Rock  2009\n",
       "1    Germany                Rock  2009\n",
       "2     Norway                Rock  2009\n",
       "3     Norway                Rock  2009\n",
       "4     Norway                Rock  2009\n",
       "..       ...                 ...   ...\n",
       "449      USA                Rock  2009\n",
       "450      USA                Rock  2009\n",
       "451      USA               Latin  2009\n",
       "452      USA               Latin  2009\n",
       "453   France  Alternative & Punk  2009\n",
       "\n",
       "[454 rows x 3 columns]"
      ]
     },
     "execution_count": 27,
     "metadata": {},
     "output_type": "execute_result"
    }
   ],
   "source": [
    "best_genres2009 = requests.get('http://127.0.0.1:5000/chinook/best_genres?year=2009')\n",
    "\n",
    "list_best_genres2009=''\n",
    "if best_genres2009.status_code == 200:\n",
    "     list_best_genres2009=df = pd.DataFrame(best_genres2009.json())\n",
    "        \n",
    "list_best_genres2009"
   ]
  },
  {
   "cell_type": "code",
   "execution_count": 28,
   "metadata": {
    "ExecuteTime": {
     "end_time": "2020-08-07T23:21:14.546580Z",
     "start_time": "2020-08-07T23:21:14.538562Z"
    }
   },
   "outputs": [
    {
     "data": {
      "text/plain": [
       "Country    object\n",
       "Genre      object\n",
       "Year       object\n",
       "dtype: object"
      ]
     },
     "execution_count": 28,
     "metadata": {},
     "output_type": "execute_result"
    }
   ],
   "source": [
    "list_best_genres2009.dtypes\n"
   ]
  },
  {
   "cell_type": "code",
   "execution_count": 29,
   "metadata": {
    "ExecuteTime": {
     "end_time": "2020-08-07T23:21:21.837767Z",
     "start_time": "2020-08-07T23:21:20.327143Z"
    }
   },
   "outputs": [
    {
     "data": {
      "text/plain": [
       "<matplotlib.legend.Legend at 0x17483738970>"
      ]
     },
     "execution_count": 29,
     "metadata": {},
     "output_type": "execute_result"
    },
    {
     "data": {
      "image/png": "[encoded data removed]",
      "text/plain": [
       "<Figure size 432x288 with 1 Axes>"
      ]
     },
     "metadata": {
      "needs_background": "light"
     },
     "output_type": "display_data"
    }
   ],
   "source": [
    "list_best_genres2009.\\\n",
    "groupby(['Country','Genre']).size().reset_index(name = 'Total Bought').\\\n",
    "sort_values(['Country','Total Bought'], ascending=False).\\\n",
    "groupby('Country').head(5).\\\n",
    "pivot(index = 'Country', columns = 'Genre').plot(kind='bar',stacked=True).\\\n",
    "legend(bbox_to_anchor=(1, 1), loc=2) "
   ]
  },
  {
   "cell_type": "markdown",
   "metadata": {},
   "source": [
    "![](assets/chinookschema2.png)"
   ]
  }
 ],
 "metadata": {
  "kernelspec": {
   "display_name": "capstone-api",
   "language": "python",
   "name": "capstone-api"
  },
  "language_info": {
   "codemirror_mode": {
    "name": "ipython",
    "version": 3
   },
   "file_extension": ".py",
   "mimetype": "text/x-python",
   "name": "python",
   "nbconvert_exporter": "python",
   "pygments_lexer": "ipython3",
   "version": "3.8.5"
  },
  "latex_envs": {
   "LaTeX_envs_menu_present": true,
   "autoclose": false,
   "autocomplete": true,
   "bibliofile": "biblio.bib",
   "cite_by": "apalike",
   "current_citInitial": 1,
   "eqLabelWithNumbers": true,
   "eqNumInitial": 1,
   "hotkeys": {
    "equation": "Ctrl-E",
    "itemize": "Ctrl-I"
   },
   "labels_anchors": false,
   "latex_user_defs": false,
   "report_style_numbering": false,
   "user_envs_cfg": false
  },
  "toc": {
   "base_numbering": 1,
   "nav_menu": {},
   "number_sections": true,
   "sideBar": true,
   "skip_h1_title": false,
   "title_cell": "Table of Contents",
   "title_sidebar": "Contents",
   "toc_cell": false,
   "toc_position": {},
   "toc_section_display": true,
   "toc_window_display": false
  }
 },
 "nbformat": 4,
 "nbformat_minor": 2
}
